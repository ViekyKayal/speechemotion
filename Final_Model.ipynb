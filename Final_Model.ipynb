{
  "cells": [
    {
      "cell_type": "code",
      "execution_count": null,
      "metadata": {
        "colab": {
          "base_uri": "https://localhost:8080/"
        },
        "id": "jMcjevU3D2ZQ",
        "outputId": "fa478d4d-fb08-4977-ad37-5f35a87e6fe7"
      },
      "outputs": [
        {
          "name": "stdout",
          "output_type": "stream",
          "text": [
            "Requirement already satisfied: pydub in c:\\users\\user\\anaconda3\\lib\\site-packages (0.25.1)\n",
            "Note: you may need to restart the kernel to use updated packages.\n"
          ]
        }
      ],
      "source": [
        "pip install pydub"
      ]
    },
    {
      "cell_type": "code",
      "execution_count": null,
      "metadata": {
        "id": "R0peUk-0nUOP"
      },
      "outputs": [],
      "source": [
        "import os\n",
        "import librosa\n",
        "import librosa.display\n",
        "import matplotlib.pyplot as plt\n",
        "import numpy as np\n",
        "import pandas as pd\n",
        "import seaborn as sns\n",
        "from IPython.display import Audio\n",
        "from keras import layers\n",
        "from keras import models\n",
        "from keras.utils import np_utils\n",
        "from sklearn.model_selection import train_test_split\n",
        "from sklearn.preprocessing import LabelEncoder, StandardScaler\n",
        "from tensorflow.python.keras.callbacks import EarlyStopping, ReduceLROnPlateau\n",
        "import tensorflow as tf\n",
        "from sklearn.model_selection import KFold\n",
        "# from pydub import AudioSegment\n",
        "# from pydub.utils import make_chunks\n",
        "# import itertools"
      ]
    },
    {
      "cell_type": "code",
      "execution_count": null,
      "metadata": {
        "colab": {
          "base_uri": "https://localhost:8080/"
        },
        "id": "-9H3aiM5nne1",
        "outputId": "72389fbe-bcc4-4ada-b377-f773f1af39af"
      },
      "outputs": [
        {
          "output_type": "stream",
          "name": "stdout",
          "text": [
            "Mounted at /content/drive\n"
          ]
        }
      ],
      "source": [
        "from google.colab  import drive\n",
        "drive.mount('/content/drive')"
      ]
    },
    {
      "cell_type": "code",
      "execution_count": null,
      "metadata": {
        "id": "iG7LgkZInpsz"
      },
      "outputs": [],
      "source": [
        "Path = \"/content/drive/MyDrive/Colab Notebooks/Dataset\""
      ]
    },
    {
      "cell_type": "code",
      "execution_count": null,
      "metadata": {
        "colab": {
          "base_uri": "https://localhost:8080/",
          "height": 206
        },
        "id": "zPKI7FscnyKx",
        "outputId": "d73e0bff-0a80-4c34-c19e-2b6c1e162868"
      },
      "outputs": [
        {
          "output_type": "execute_result",
          "data": {
            "text/plain": [
              "   Emotion                                               Path\n",
              "0  Abusive  /content/drive/MyDrive/Colab Notebooks/Dataset...\n",
              "1  Abusive  /content/drive/MyDrive/Colab Notebooks/Dataset...\n",
              "2  Abusive  /content/drive/MyDrive/Colab Notebooks/Dataset...\n",
              "3  Abusive  /content/drive/MyDrive/Colab Notebooks/Dataset...\n",
              "4    Angry  /content/drive/MyDrive/Colab Notebooks/Dataset..."
            ],
            "text/html": [
              "\n",
              "  <div id=\"df-0e574086-78bf-4804-980b-e2ca0124d540\">\n",
              "    <div class=\"colab-df-container\">\n",
              "      <div>\n",
              "<style scoped>\n",
              "    .dataframe tbody tr th:only-of-type {\n",
              "        vertical-align: middle;\n",
              "    }\n",
              "\n",
              "    .dataframe tbody tr th {\n",
              "        vertical-align: top;\n",
              "    }\n",
              "\n",
              "    .dataframe thead th {\n",
              "        text-align: right;\n",
              "    }\n",
              "</style>\n",
              "<table border=\"1\" class=\"dataframe\">\n",
              "  <thead>\n",
              "    <tr style=\"text-align: right;\">\n",
              "      <th></th>\n",
              "      <th>Emotion</th>\n",
              "      <th>Path</th>\n",
              "    </tr>\n",
              "  </thead>\n",
              "  <tbody>\n",
              "    <tr>\n",
              "      <th>0</th>\n",
              "      <td>Abusive</td>\n",
              "      <td>/content/drive/MyDrive/Colab Notebooks/Dataset...</td>\n",
              "    </tr>\n",
              "    <tr>\n",
              "      <th>1</th>\n",
              "      <td>Abusive</td>\n",
              "      <td>/content/drive/MyDrive/Colab Notebooks/Dataset...</td>\n",
              "    </tr>\n",
              "    <tr>\n",
              "      <th>2</th>\n",
              "      <td>Abusive</td>\n",
              "      <td>/content/drive/MyDrive/Colab Notebooks/Dataset...</td>\n",
              "    </tr>\n",
              "    <tr>\n",
              "      <th>3</th>\n",
              "      <td>Abusive</td>\n",
              "      <td>/content/drive/MyDrive/Colab Notebooks/Dataset...</td>\n",
              "    </tr>\n",
              "    <tr>\n",
              "      <th>4</th>\n",
              "      <td>Angry</td>\n",
              "      <td>/content/drive/MyDrive/Colab Notebooks/Dataset...</td>\n",
              "    </tr>\n",
              "  </tbody>\n",
              "</table>\n",
              "</div>\n",
              "      <button class=\"colab-df-convert\" onclick=\"convertToInteractive('df-0e574086-78bf-4804-980b-e2ca0124d540')\"\n",
              "              title=\"Convert this dataframe to an interactive table.\"\n",
              "              style=\"display:none;\">\n",
              "        \n",
              "  <svg xmlns=\"http://www.w3.org/2000/svg\" height=\"24px\"viewBox=\"0 0 24 24\"\n",
              "       width=\"24px\">\n",
              "    <path d=\"M0 0h24v24H0V0z\" fill=\"none\"/>\n",
              "    <path d=\"M18.56 5.44l.94 2.06.94-2.06 2.06-.94-2.06-.94-.94-2.06-.94 2.06-2.06.94zm-11 1L8.5 8.5l.94-2.06 2.06-.94-2.06-.94L8.5 2.5l-.94 2.06-2.06.94zm10 10l.94 2.06.94-2.06 2.06-.94-2.06-.94-.94-2.06-.94 2.06-2.06.94z\"/><path d=\"M17.41 7.96l-1.37-1.37c-.4-.4-.92-.59-1.43-.59-.52 0-1.04.2-1.43.59L10.3 9.45l-7.72 7.72c-.78.78-.78 2.05 0 2.83L4 21.41c.39.39.9.59 1.41.59.51 0 1.02-.2 1.41-.59l7.78-7.78 2.81-2.81c.8-.78.8-2.07 0-2.86zM5.41 20L4 18.59l7.72-7.72 1.47 1.35L5.41 20z\"/>\n",
              "  </svg>\n",
              "      </button>\n",
              "      \n",
              "  <style>\n",
              "    .colab-df-container {\n",
              "      display:flex;\n",
              "      flex-wrap:wrap;\n",
              "      gap: 12px;\n",
              "    }\n",
              "\n",
              "    .colab-df-convert {\n",
              "      background-color: #E8F0FE;\n",
              "      border: none;\n",
              "      border-radius: 50%;\n",
              "      cursor: pointer;\n",
              "      display: none;\n",
              "      fill: #1967D2;\n",
              "      height: 32px;\n",
              "      padding: 0 0 0 0;\n",
              "      width: 32px;\n",
              "    }\n",
              "\n",
              "    .colab-df-convert:hover {\n",
              "      background-color: #E2EBFA;\n",
              "      box-shadow: 0px 1px 2px rgba(60, 64, 67, 0.3), 0px 1px 3px 1px rgba(60, 64, 67, 0.15);\n",
              "      fill: #174EA6;\n",
              "    }\n",
              "\n",
              "    [theme=dark] .colab-df-convert {\n",
              "      background-color: #3B4455;\n",
              "      fill: #D2E3FC;\n",
              "    }\n",
              "\n",
              "    [theme=dark] .colab-df-convert:hover {\n",
              "      background-color: #434B5C;\n",
              "      box-shadow: 0px 1px 3px 1px rgba(0, 0, 0, 0.15);\n",
              "      filter: drop-shadow(0px 1px 2px rgba(0, 0, 0, 0.3));\n",
              "      fill: #FFFFFF;\n",
              "    }\n",
              "  </style>\n",
              "\n",
              "      <script>\n",
              "        const buttonEl =\n",
              "          document.querySelector('#df-0e574086-78bf-4804-980b-e2ca0124d540 button.colab-df-convert');\n",
              "        buttonEl.style.display =\n",
              "          google.colab.kernel.accessAllowed ? 'block' : 'none';\n",
              "\n",
              "        async function convertToInteractive(key) {\n",
              "          const element = document.querySelector('#df-0e574086-78bf-4804-980b-e2ca0124d540');\n",
              "          const dataTable =\n",
              "            await google.colab.kernel.invokeFunction('convertToInteractive',\n",
              "                                                     [key], {});\n",
              "          if (!dataTable) return;\n",
              "\n",
              "          const docLinkHtml = 'Like what you see? Visit the ' +\n",
              "            '<a target=\"_blank\" href=https://colab.research.google.com/notebooks/data_table.ipynb>data table notebook</a>'\n",
              "            + ' to learn more about interactive tables.';\n",
              "          element.innerHTML = '';\n",
              "          dataTable['output_type'] = 'display_data';\n",
              "          await google.colab.output.renderOutput(dataTable, element);\n",
              "          const docLink = document.createElement('div');\n",
              "          docLink.innerHTML = docLinkHtml;\n",
              "          element.appendChild(docLink);\n",
              "        }\n",
              "      </script>\n",
              "    </div>\n",
              "  </div>\n",
              "  "
            ]
          },
          "metadata": {},
          "execution_count": 12
        }
      ],
      "source": [
        "# data = []\n",
        "# for wav in os.listdir(Path):\n",
        "#   emotion = wav.partition(\".wav\")[0].split('_')\n",
        "#   if emotion[0] == 'Abuse':\n",
        "#     data.append(('Abusive', Path+'/'+wav))\n",
        "#   elif emotion[2] == 'DRU':\n",
        "#     data.append(('Drunk', Path+'/'+wav))\n",
        "#   elif emotion[2] == 'DIS':\n",
        "#     data.append(('Painful', Path+'/'+wav))\n",
        "#   elif emotion[2] == 'FEA':\n",
        "#     data.append(('Stressful', Path+'/'+wav))\n",
        "#   elif emotion[2] == 'HAP':\n",
        "#     data.append(('Prank', Path+'/'+wav))\n",
        "#   elif emotion[2] == 'ANG':\n",
        "#     data.append(('Angry', Path+'/'+wav))\n",
        "#   elif emotion[2] == 'SAD':\n",
        "#     data.append(('Sad', Path+'/'+wav))\n",
        "#   elif emotion[2] == 'NEU':\n",
        "#     data.append(('Neutral', Path+'/'+wav))\n",
        "# df = pd.DataFrame.from_dict(data)\n",
        "# df.rename(columns={0:'Emotion', 1:'Path'}, inplace=True)\n",
        "# df.head()\n",
        "\n",
        "data = []\n",
        "for wav in os.listdir(Path):\n",
        "  emotion = wav.partition(\".wav\")[0].split('_')\n",
        "  if emotion[0] == 'Abuse':\n",
        "      data.append(('Abusive', Path+'/'+wav))\n",
        "  if len(emotion) >= 3:\n",
        "    # if emotion[2] == 'DRU':\n",
        "    #   data.append(('Drunk', Path+'/'+wav))\n",
        "    if emotion[2] == 'DIS':\n",
        "      data.append(('Painful', Path+'/'+wav))\n",
        "    elif emotion[2] == 'FEA':\n",
        "      data.append(('Stressful', Path+'/'+wav))\n",
        "    elif emotion[2] == 'HAP':\n",
        "      data.append(('Prank', Path+'/'+wav))\n",
        "    elif emotion[2] == 'ANG':\n",
        "      data.append(('Angry', Path+'/'+wav))\n",
        "    elif emotion[2] == 'SAD':\n",
        "      data.append(('Sad', Path+'/'+wav))\n",
        "    elif emotion[2] == 'NEU':\n",
        "      data.append(('Neutral', Path+'/'+wav))\n",
        "df = pd.DataFrame.from_dict(data)\n",
        "df.rename(columns={0:'Emotion', 1:'Path'}, inplace=True)\n",
        "df.head()\n"
      ]
    },
    {
      "cell_type": "code",
      "execution_count": null,
      "metadata": {
        "id": "kf3OSjf-ZuVN",
        "colab": {
          "base_uri": "https://localhost:8080/",
          "height": 423
        },
        "outputId": "7a4e5a86-8def-4072-a796-78a711585f27"
      },
      "outputs": [
        {
          "output_type": "execute_result",
          "data": {
            "text/plain": [
              "       Emotion                                               Path\n",
              "0      Abusive  /content/drive/MyDrive/Colab Notebooks/Dataset...\n",
              "1      Abusive  /content/drive/MyDrive/Colab Notebooks/Dataset...\n",
              "2      Abusive  /content/drive/MyDrive/Colab Notebooks/Dataset...\n",
              "3      Abusive  /content/drive/MyDrive/Colab Notebooks/Dataset...\n",
              "4        Angry  /content/drive/MyDrive/Colab Notebooks/Dataset...\n",
              "..         ...                                                ...\n",
              "674    Painful  /content/drive/MyDrive/Colab Notebooks/Dataset...\n",
              "675    Painful  /content/drive/MyDrive/Colab Notebooks/Dataset...\n",
              "676      Angry  /content/drive/MyDrive/Colab Notebooks/Dataset...\n",
              "677  Stressful  /content/drive/MyDrive/Colab Notebooks/Dataset...\n",
              "678    Abusive  /content/drive/MyDrive/Colab Notebooks/Dataset...\n",
              "\n",
              "[679 rows x 2 columns]"
            ],
            "text/html": [
              "\n",
              "  <div id=\"df-ce90feb7-3b20-46fb-9484-17366738a580\">\n",
              "    <div class=\"colab-df-container\">\n",
              "      <div>\n",
              "<style scoped>\n",
              "    .dataframe tbody tr th:only-of-type {\n",
              "        vertical-align: middle;\n",
              "    }\n",
              "\n",
              "    .dataframe tbody tr th {\n",
              "        vertical-align: top;\n",
              "    }\n",
              "\n",
              "    .dataframe thead th {\n",
              "        text-align: right;\n",
              "    }\n",
              "</style>\n",
              "<table border=\"1\" class=\"dataframe\">\n",
              "  <thead>\n",
              "    <tr style=\"text-align: right;\">\n",
              "      <th></th>\n",
              "      <th>Emotion</th>\n",
              "      <th>Path</th>\n",
              "    </tr>\n",
              "  </thead>\n",
              "  <tbody>\n",
              "    <tr>\n",
              "      <th>0</th>\n",
              "      <td>Abusive</td>\n",
              "      <td>/content/drive/MyDrive/Colab Notebooks/Dataset...</td>\n",
              "    </tr>\n",
              "    <tr>\n",
              "      <th>1</th>\n",
              "      <td>Abusive</td>\n",
              "      <td>/content/drive/MyDrive/Colab Notebooks/Dataset...</td>\n",
              "    </tr>\n",
              "    <tr>\n",
              "      <th>2</th>\n",
              "      <td>Abusive</td>\n",
              "      <td>/content/drive/MyDrive/Colab Notebooks/Dataset...</td>\n",
              "    </tr>\n",
              "    <tr>\n",
              "      <th>3</th>\n",
              "      <td>Abusive</td>\n",
              "      <td>/content/drive/MyDrive/Colab Notebooks/Dataset...</td>\n",
              "    </tr>\n",
              "    <tr>\n",
              "      <th>4</th>\n",
              "      <td>Angry</td>\n",
              "      <td>/content/drive/MyDrive/Colab Notebooks/Dataset...</td>\n",
              "    </tr>\n",
              "    <tr>\n",
              "      <th>...</th>\n",
              "      <td>...</td>\n",
              "      <td>...</td>\n",
              "    </tr>\n",
              "    <tr>\n",
              "      <th>674</th>\n",
              "      <td>Painful</td>\n",
              "      <td>/content/drive/MyDrive/Colab Notebooks/Dataset...</td>\n",
              "    </tr>\n",
              "    <tr>\n",
              "      <th>675</th>\n",
              "      <td>Painful</td>\n",
              "      <td>/content/drive/MyDrive/Colab Notebooks/Dataset...</td>\n",
              "    </tr>\n",
              "    <tr>\n",
              "      <th>676</th>\n",
              "      <td>Angry</td>\n",
              "      <td>/content/drive/MyDrive/Colab Notebooks/Dataset...</td>\n",
              "    </tr>\n",
              "    <tr>\n",
              "      <th>677</th>\n",
              "      <td>Stressful</td>\n",
              "      <td>/content/drive/MyDrive/Colab Notebooks/Dataset...</td>\n",
              "    </tr>\n",
              "    <tr>\n",
              "      <th>678</th>\n",
              "      <td>Abusive</td>\n",
              "      <td>/content/drive/MyDrive/Colab Notebooks/Dataset...</td>\n",
              "    </tr>\n",
              "  </tbody>\n",
              "</table>\n",
              "<p>679 rows × 2 columns</p>\n",
              "</div>\n",
              "      <button class=\"colab-df-convert\" onclick=\"convertToInteractive('df-ce90feb7-3b20-46fb-9484-17366738a580')\"\n",
              "              title=\"Convert this dataframe to an interactive table.\"\n",
              "              style=\"display:none;\">\n",
              "        \n",
              "  <svg xmlns=\"http://www.w3.org/2000/svg\" height=\"24px\"viewBox=\"0 0 24 24\"\n",
              "       width=\"24px\">\n",
              "    <path d=\"M0 0h24v24H0V0z\" fill=\"none\"/>\n",
              "    <path d=\"M18.56 5.44l.94 2.06.94-2.06 2.06-.94-2.06-.94-.94-2.06-.94 2.06-2.06.94zm-11 1L8.5 8.5l.94-2.06 2.06-.94-2.06-.94L8.5 2.5l-.94 2.06-2.06.94zm10 10l.94 2.06.94-2.06 2.06-.94-2.06-.94-.94-2.06-.94 2.06-2.06.94z\"/><path d=\"M17.41 7.96l-1.37-1.37c-.4-.4-.92-.59-1.43-.59-.52 0-1.04.2-1.43.59L10.3 9.45l-7.72 7.72c-.78.78-.78 2.05 0 2.83L4 21.41c.39.39.9.59 1.41.59.51 0 1.02-.2 1.41-.59l7.78-7.78 2.81-2.81c.8-.78.8-2.07 0-2.86zM5.41 20L4 18.59l7.72-7.72 1.47 1.35L5.41 20z\"/>\n",
              "  </svg>\n",
              "      </button>\n",
              "      \n",
              "  <style>\n",
              "    .colab-df-container {\n",
              "      display:flex;\n",
              "      flex-wrap:wrap;\n",
              "      gap: 12px;\n",
              "    }\n",
              "\n",
              "    .colab-df-convert {\n",
              "      background-color: #E8F0FE;\n",
              "      border: none;\n",
              "      border-radius: 50%;\n",
              "      cursor: pointer;\n",
              "      display: none;\n",
              "      fill: #1967D2;\n",
              "      height: 32px;\n",
              "      padding: 0 0 0 0;\n",
              "      width: 32px;\n",
              "    }\n",
              "\n",
              "    .colab-df-convert:hover {\n",
              "      background-color: #E2EBFA;\n",
              "      box-shadow: 0px 1px 2px rgba(60, 64, 67, 0.3), 0px 1px 3px 1px rgba(60, 64, 67, 0.15);\n",
              "      fill: #174EA6;\n",
              "    }\n",
              "\n",
              "    [theme=dark] .colab-df-convert {\n",
              "      background-color: #3B4455;\n",
              "      fill: #D2E3FC;\n",
              "    }\n",
              "\n",
              "    [theme=dark] .colab-df-convert:hover {\n",
              "      background-color: #434B5C;\n",
              "      box-shadow: 0px 1px 3px 1px rgba(0, 0, 0, 0.15);\n",
              "      filter: drop-shadow(0px 1px 2px rgba(0, 0, 0, 0.3));\n",
              "      fill: #FFFFFF;\n",
              "    }\n",
              "  </style>\n",
              "\n",
              "      <script>\n",
              "        const buttonEl =\n",
              "          document.querySelector('#df-ce90feb7-3b20-46fb-9484-17366738a580 button.colab-df-convert');\n",
              "        buttonEl.style.display =\n",
              "          google.colab.kernel.accessAllowed ? 'block' : 'none';\n",
              "\n",
              "        async function convertToInteractive(key) {\n",
              "          const element = document.querySelector('#df-ce90feb7-3b20-46fb-9484-17366738a580');\n",
              "          const dataTable =\n",
              "            await google.colab.kernel.invokeFunction('convertToInteractive',\n",
              "                                                     [key], {});\n",
              "          if (!dataTable) return;\n",
              "\n",
              "          const docLinkHtml = 'Like what you see? Visit the ' +\n",
              "            '<a target=\"_blank\" href=https://colab.research.google.com/notebooks/data_table.ipynb>data table notebook</a>'\n",
              "            + ' to learn more about interactive tables.';\n",
              "          element.innerHTML = '';\n",
              "          dataTable['output_type'] = 'display_data';\n",
              "          await google.colab.output.renderOutput(dataTable, element);\n",
              "          const docLink = document.createElement('div');\n",
              "          docLink.innerHTML = docLinkHtml;\n",
              "          element.appendChild(docLink);\n",
              "        }\n",
              "      </script>\n",
              "    </div>\n",
              "  </div>\n",
              "  "
            ]
          },
          "metadata": {},
          "execution_count": 13
        }
      ],
      "source": [
        "df"
      ]
    },
    {
      "cell_type": "code",
      "execution_count": null,
      "metadata": {
        "colab": {
          "base_uri": "https://localhost:8080/"
        },
        "id": "pVO8GP7vY60b",
        "outputId": "acaeb980-871a-4755-be6a-79a9805f98ee"
      },
      "outputs": [
        {
          "output_type": "execute_result",
          "data": {
            "text/plain": [
              "(679, 2)"
            ]
          },
          "metadata": {},
          "execution_count": 14
        }
      ],
      "source": [
        "df.shape"
      ]
    },
    {
      "cell_type": "code",
      "execution_count": null,
      "metadata": {
        "id": "xyDJ2J9tn3x1"
      },
      "outputs": [],
      "source": [
        "%matplotlib inline\n",
        "\n",
        "plt.style.use(\"ggplot\")"
      ]
    },
    {
      "cell_type": "code",
      "execution_count": null,
      "metadata": {
        "colab": {
          "base_uri": "https://localhost:8080/",
          "height": 477
        },
        "id": "GpVcgbFpoOlZ",
        "outputId": "32e30d42-ebf6-4c27-f02f-035ff7fa87fc"
      },
      "outputs": [
        {
          "output_type": "display_data",
          "data": {
            "text/plain": [
              "<Figure size 640x480 with 1 Axes>"
            ],
            "image/png": "[encoded data removed]"
          },
          "metadata": {}
        }
      ],
      "source": [
        "plt.title(\"Count of emotions:\")\n",
        "sns.countplot(x=df[\"Emotion\"])\n",
        "sns.despine(top=True, right=True, left=False, bottom=False)"
      ]
    },
    {
      "cell_type": "code",
      "execution_count": null,
      "metadata": {
        "id": "n6RkjYJNoSR9"
      },
      "outputs": [],
      "source": [
        "def create_waveplot(data, sr, e):\n",
        "    plt.figure(figsize=(10, 3))\n",
        "    plt.title(f'Waveplot for audio with {e} emotion', size=15)\n",
        "    librosa.display.waveplot(data, sr=sr)\n",
        "    plt.show()\n",
        "\n",
        "def create_spectrogram(data, sr, e):\n",
        "    # stft function converts the data into short term fourier transform\n",
        "    X = librosa.stft(data)\n",
        "    Xdb = librosa.amplitude_to_db(abs(X))\n",
        "    plt.figure(figsize=(12, 3))\n",
        "    plt.title('Spectrogram for audio with {} emotion'.format(e), size=15)\n",
        "    librosa.display.specshow(Xdb, sr=44100, x_axis='time', y_axis='hz')\n",
        "    #librosa.display.specshow(Xdb, sr=sr, x_axis='time', y_axis='log')\n",
        "    plt.colorbar()"
      ]
    },
    {
      "cell_type": "code",
      "execution_count": null,
      "metadata": {
        "id": "j-BVa3wEo8Gh"
      },
      "outputs": [],
      "source": [
        "def noise(data, random=False, rate=0.035, threshold=0.075):\n",
        "    \"\"\"Add some noise to sound sample. Use random if you want to add random noise with some threshold.\n",
        "    Or use rate Random=False and rate for always adding fixed noise.\"\"\"\n",
        "    if random:\n",
        "        rate = np.random.random() * threshold\n",
        "    noise_amp = rate*np.random.uniform()*np.amax(data)\n",
        "    data = data + noise_amp*np.random.normal(size=data.shape[0])\n",
        "    return data\n",
        "\n",
        "def stretch(data, rate=0.8):\n",
        "    \"\"\"Stretching data with some rate.\"\"\"\n",
        "    return librosa.effects.time_stretch(data, rate)\n",
        "\n",
        "def shift(data, rate=1000):\n",
        "    \"\"\"Shifting data with some rate\"\"\"\n",
        "    shift_range = int(np.random.uniform(low=-5, high = 5)*rate)\n",
        "    return np.roll(data, shift_range)\n",
        "\n",
        "def pitch(data, sampling_rate, pitch_factor=0.7, random=False):\n",
        "    \"\"\"\"Add some pitch to sound sample. Use random if you want to add random pitch with some threshold.\n",
        "    Or use pitch_factor Random=False and rate for always adding fixed pitch.\"\"\"\n",
        "    if random:\n",
        "        pitch_factor=np.random.random() * pitch_factor\n",
        "    return librosa.effects.pitch_shift(data, sampling_rate, pitch_factor)"
      ]
    },
    {
      "cell_type": "code",
      "execution_count": null,
      "metadata": {
        "id": "szgrcm3PpRW7"
      },
      "outputs": [],
      "source": [
        "n_fft = 2048\n",
        "hop_length = 512"
      ]
    },
    {
      "cell_type": "code",
      "execution_count": null,
      "metadata": {
        "id": "vJK1Vj3BpVgy"
      },
      "outputs": [],
      "source": [
        "def zcr(data, frame_length=2048, hop_length=512):\n",
        "    zcr = librosa.feature.zero_crossing_rate(y=data, frame_length=frame_length, hop_length=hop_length)\n",
        "    return np.squeeze(zcr)\n",
        "\n",
        "def rmse(data, frame_length=2048, hop_length=512):\n",
        "    rmse = librosa.feature.rms(y=data, frame_length=frame_length, hop_length=hop_length)\n",
        "    return np.squeeze(rmse)\n",
        "\n",
        "def mfcc(data, sr, frame_length=2048, hop_length=512, flatten: bool = True):\n",
        "    mfcc_feature = librosa.feature.mfcc(y=data, sr=sr)\n",
        "    return np.squeeze(mfcc_feature.T) if not flatten else np.ravel(mfcc_feature.T)"
      ]
    },
    {
      "cell_type": "code",
      "execution_count": null,
      "metadata": {
        "colab": {
          "base_uri": "https://localhost:8080/"
        },
        "id": "msD3tsYKpkge",
        "outputId": "38c893dc-ee2f-446d-8823-5566f28e1639"
      },
      "outputs": [
        {
          "output_type": "execute_result",
          "data": {
            "text/plain": [
              "30915"
            ]
          },
          "metadata": {},
          "execution_count": 21
        }
      ],
      "source": [
        "path = np.array(df[\"Path\"])[10]\n",
        "data, sample_rate = librosa.load(path, duration=2.5, offset=0.6)\n",
        "len(data)"
      ]
    },
    {
      "cell_type": "code",
      "execution_count": null,
      "metadata": {
        "id": "fdQXIhsWpqex"
      },
      "outputs": [],
      "source": [
        "def extract_features(data, sr, frame_length=2048, hop_length=512):\n",
        "    result = np.array([])\n",
        "    result = np.hstack((result,\n",
        "                        zcr(data, frame_length, hop_length),\n",
        "                        rmse(data, frame_length, hop_length),\n",
        "                        mfcc(data, sr, frame_length, hop_length)\n",
        "                                    ))\n",
        "    return result"
      ]
    },
    {
      "cell_type": "code",
      "execution_count": null,
      "metadata": {
        "id": "Uda80IEOpuos"
      },
      "outputs": [],
      "source": [
        "def get_features(path, duration=2.5, offset=0.6):\n",
        "    # duration and offset are used to take care of the no audio in start and the ending of each audio files as seen above.\n",
        "    data, sample_rate = librosa.load(path, duration=duration, offset=offset)\n",
        "\n",
        "     # without augmentation\n",
        "    res1 = extract_features(data, sample_rate)\n",
        "    result = np.array(res1)\n",
        "\n",
        "    # data with noise\n",
        "    noise_data = noise(data, random=True)\n",
        "    res2 = extract_features(noise_data, sample_rate)\n",
        "    result = np.vstack((result, res2)) # stacking vertically\n",
        "\n",
        "    # data with pitching\n",
        "    pitched_data = pitch(data, sample_rate, random=True)\n",
        "    res3 = extract_features(pitched_data, sample_rate)\n",
        "    result = np.vstack((result, res3)) # stacking vertically\n",
        "\n",
        "    # data with pitching and white_noise\n",
        "    new_data = pitch(data, sample_rate, random=True)\n",
        "    data_noise_pitch = noise(new_data, random=True)\n",
        "    res3 = extract_features(data_noise_pitch, sample_rate)\n",
        "    result = np.vstack((result, res3)) # stacking vertically\n",
        "\n",
        "    return result"
      ]
    },
    {
      "cell_type": "code",
      "execution_count": null,
      "metadata": {
        "colab": {
          "base_uri": "https://localhost:8080/",
          "height": 363
        },
        "id": "opGGeDBrpyrp",
        "outputId": "3116d2fb-47e9-4c75-da16-414257c884e1"
      },
      "outputs": [
        {
          "output_type": "stream",
          "name": "stdout",
          "text": [
            "Feature processing...\n"
          ]
        },
        {
          "output_type": "error",
          "ename": "TypeError",
          "evalue": "ignored",
          "traceback": [
            "\u001b[0;31m---------------------------------------------------------------------------\u001b[0m",
            "\u001b[0;31mTypeError\u001b[0m                                 Traceback (most recent call last)",
            "\u001b[0;32m<ipython-input-24-381c64508b98>\u001b[0m in \u001b[0;36m<cell line: 3>\u001b[0;34m()\u001b[0m\n\u001b[1;32m      2\u001b[0m \u001b[0mprint\u001b[0m\u001b[0;34m(\u001b[0m\u001b[0;34m\"Feature processing...\"\u001b[0m\u001b[0;34m)\u001b[0m\u001b[0;34m\u001b[0m\u001b[0;34m\u001b[0m\u001b[0m\n\u001b[1;32m      3\u001b[0m \u001b[0;32mfor\u001b[0m \u001b[0mpath\u001b[0m\u001b[0;34m,\u001b[0m \u001b[0memotion\u001b[0m\u001b[0;34m,\u001b[0m \u001b[0mind\u001b[0m \u001b[0;32min\u001b[0m \u001b[0mzip\u001b[0m\u001b[0;34m(\u001b[0m\u001b[0mdf\u001b[0m\u001b[0;34m.\u001b[0m\u001b[0mPath\u001b[0m\u001b[0;34m,\u001b[0m \u001b[0mdf\u001b[0m\u001b[0;34m.\u001b[0m\u001b[0mEmotion\u001b[0m\u001b[0;34m,\u001b[0m \u001b[0mrange\u001b[0m\u001b[0;34m(\u001b[0m\u001b[0mdf\u001b[0m\u001b[0;34m.\u001b[0m\u001b[0mPath\u001b[0m\u001b[0;34m.\u001b[0m\u001b[0mshape\u001b[0m\u001b[0;34m[\u001b[0m\u001b[0;36m0\u001b[0m\u001b[0;34m]\u001b[0m\u001b[0;34m)\u001b[0m\u001b[0;34m)\u001b[0m\u001b[0;34m:\u001b[0m\u001b[0;34m\u001b[0m\u001b[0;34m\u001b[0m\u001b[0m\n\u001b[0;32m----> 4\u001b[0;31m     \u001b[0mfeatures\u001b[0m \u001b[0;34m=\u001b[0m \u001b[0mget_features\u001b[0m\u001b[0;34m(\u001b[0m\u001b[0mpath\u001b[0m\u001b[0;34m)\u001b[0m\u001b[0;34m\u001b[0m\u001b[0;34m\u001b[0m\u001b[0m\n\u001b[0m\u001b[1;32m      5\u001b[0m     \u001b[0;32mif\u001b[0m \u001b[0mind\u001b[0m \u001b[0;34m%\u001b[0m \u001b[0;36m100\u001b[0m \u001b[0;34m==\u001b[0m \u001b[0;36m0\u001b[0m\u001b[0;34m:\u001b[0m\u001b[0;34m\u001b[0m\u001b[0;34m\u001b[0m\u001b[0m\n\u001b[1;32m      6\u001b[0m         \u001b[0mprint\u001b[0m\u001b[0;34m(\u001b[0m\u001b[0;34mf\"{ind} samples has been processed...\"\u001b[0m\u001b[0;34m)\u001b[0m\u001b[0;34m\u001b[0m\u001b[0;34m\u001b[0m\u001b[0m\n",
            "\u001b[0;32m<ipython-input-23-924a2c739298>\u001b[0m in \u001b[0;36mget_features\u001b[0;34m(path, duration, offset)\u001b[0m\n\u001b[1;32m     13\u001b[0m \u001b[0;34m\u001b[0m\u001b[0m\n\u001b[1;32m     14\u001b[0m     \u001b[0;31m# data with pitching\u001b[0m\u001b[0;34m\u001b[0m\u001b[0;34m\u001b[0m\u001b[0m\n\u001b[0;32m---> 15\u001b[0;31m     \u001b[0mpitched_data\u001b[0m \u001b[0;34m=\u001b[0m \u001b[0mpitch\u001b[0m\u001b[0;34m(\u001b[0m\u001b[0mdata\u001b[0m\u001b[0;34m,\u001b[0m \u001b[0msample_rate\u001b[0m\u001b[0;34m,\u001b[0m \u001b[0mrandom\u001b[0m\u001b[0;34m=\u001b[0m\u001b[0;32mTrue\u001b[0m\u001b[0;34m)\u001b[0m\u001b[0;34m\u001b[0m\u001b[0;34m\u001b[0m\u001b[0m\n\u001b[0m\u001b[1;32m     16\u001b[0m     \u001b[0mres3\u001b[0m \u001b[0;34m=\u001b[0m \u001b[0mextract_features\u001b[0m\u001b[0;34m(\u001b[0m\u001b[0mpitched_data\u001b[0m\u001b[0;34m,\u001b[0m \u001b[0msample_rate\u001b[0m\u001b[0;34m)\u001b[0m\u001b[0;34m\u001b[0m\u001b[0;34m\u001b[0m\u001b[0m\n\u001b[1;32m     17\u001b[0m     \u001b[0mresult\u001b[0m \u001b[0;34m=\u001b[0m \u001b[0mnp\u001b[0m\u001b[0;34m.\u001b[0m\u001b[0mvstack\u001b[0m\u001b[0;34m(\u001b[0m\u001b[0;34m(\u001b[0m\u001b[0mresult\u001b[0m\u001b[0;34m,\u001b[0m \u001b[0mres3\u001b[0m\u001b[0;34m)\u001b[0m\u001b[0;34m)\u001b[0m \u001b[0;31m# stacking vertically\u001b[0m\u001b[0;34m\u001b[0m\u001b[0;34m\u001b[0m\u001b[0m\n",
            "\u001b[0;32m<ipython-input-18-84f4b43160fd>\u001b[0m in \u001b[0;36mpitch\u001b[0;34m(data, sampling_rate, pitch_factor, random)\u001b[0m\n\u001b[1;32m     22\u001b[0m     \u001b[0;32mif\u001b[0m \u001b[0mrandom\u001b[0m\u001b[0;34m:\u001b[0m\u001b[0;34m\u001b[0m\u001b[0;34m\u001b[0m\u001b[0m\n\u001b[1;32m     23\u001b[0m         \u001b[0mpitch_factor\u001b[0m\u001b[0;34m=\u001b[0m\u001b[0mnp\u001b[0m\u001b[0;34m.\u001b[0m\u001b[0mrandom\u001b[0m\u001b[0;34m.\u001b[0m\u001b[0mrandom\u001b[0m\u001b[0;34m(\u001b[0m\u001b[0;34m)\u001b[0m \u001b[0;34m*\u001b[0m \u001b[0mpitch_factor\u001b[0m\u001b[0;34m\u001b[0m\u001b[0;34m\u001b[0m\u001b[0m\n\u001b[0;32m---> 24\u001b[0;31m     \u001b[0;32mreturn\u001b[0m \u001b[0mlibrosa\u001b[0m\u001b[0;34m.\u001b[0m\u001b[0meffects\u001b[0m\u001b[0;34m.\u001b[0m\u001b[0mpitch_shift\u001b[0m\u001b[0;34m(\u001b[0m\u001b[0mdata\u001b[0m\u001b[0;34m,\u001b[0m \u001b[0msampling_rate\u001b[0m\u001b[0;34m,\u001b[0m \u001b[0mpitch_factor\u001b[0m\u001b[0;34m)\u001b[0m\u001b[0;34m\u001b[0m\u001b[0;34m\u001b[0m\u001b[0m\n\u001b[0m",
            "\u001b[0;31mTypeError\u001b[0m: pitch_shift() takes 1 positional argument but 3 were given"
          ]
        }
      ],
      "source": [
        "X, Y = [], []\n",
        "print(\"Feature processing...\")\n",
        "for path, emotion, ind in zip(df.Path, df.Emotion, range(df.Path.shape[0])):\n",
        "    features = get_features(path)\n",
        "    if ind % 100 == 0:\n",
        "        print(f\"{ind} samples has been processed...\")\n",
        "    for ele in features:\n",
        "        X.append(ele)\n",
        "        # appending emotion 3 times as we have made 3 augmentation techniques on each audio file.\n",
        "        Y.append(emotion)\n",
        "print(\"Done.\")"
      ]
    },
    {
      "cell_type": "code",
      "execution_count": null,
      "metadata": {
        "id": "689ZixUsp1_L"
      },
      "outputs": [],
      "source": [
        "features_path = \"./features.csv\""
      ]
    },
    {
      "cell_type": "code",
      "execution_count": null,
      "metadata": {
        "colab": {
          "base_uri": "https://localhost:8080/",
          "height": 299
        },
        "id": "34aYXYMtqJEI",
        "outputId": "21840ff4-c0d7-405b-b534-90260291e0c9"
      },
      "outputs": [
        {
          "data": {
            "text/html": [
              "<div>\n",
              "<style scoped>\n",
              "    .dataframe tbody tr th:only-of-type {\n",
              "        vertical-align: middle;\n",
              "    }\n",
              "\n",
              "    .dataframe tbody tr th {\n",
              "        vertical-align: top;\n",
              "    }\n",
              "\n",
              "    .dataframe thead th {\n",
              "        text-align: right;\n",
              "    }\n",
              "</style>\n",
              "<table border=\"1\" class=\"dataframe\">\n",
              "  <thead>\n",
              "    <tr style=\"text-align: right;\">\n",
              "      <th></th>\n",
              "      <th>0</th>\n",
              "      <th>1</th>\n",
              "      <th>2</th>\n",
              "      <th>3</th>\n",
              "      <th>4</th>\n",
              "      <th>5</th>\n",
              "      <th>6</th>\n",
              "      <th>7</th>\n",
              "      <th>8</th>\n",
              "      <th>9</th>\n",
              "      <th>...</th>\n",
              "      <th>2367</th>\n",
              "      <th>2368</th>\n",
              "      <th>2369</th>\n",
              "      <th>2370</th>\n",
              "      <th>2371</th>\n",
              "      <th>2372</th>\n",
              "      <th>2373</th>\n",
              "      <th>2374</th>\n",
              "      <th>2375</th>\n",
              "      <th>labels</th>\n",
              "    </tr>\n",
              "  </thead>\n",
              "  <tbody>\n",
              "    <tr>\n",
              "      <th>0</th>\n",
              "      <td>0.027344</td>\n",
              "      <td>0.057617</td>\n",
              "      <td>0.104004</td>\n",
              "      <td>0.136230</td>\n",
              "      <td>0.136230</td>\n",
              "      <td>0.129883</td>\n",
              "      <td>0.100586</td>\n",
              "      <td>0.070801</td>\n",
              "      <td>0.069336</td>\n",
              "      <td>0.074219</td>\n",
              "      <td>...</td>\n",
              "      <td>NaN</td>\n",
              "      <td>NaN</td>\n",
              "      <td>NaN</td>\n",
              "      <td>NaN</td>\n",
              "      <td>NaN</td>\n",
              "      <td>NaN</td>\n",
              "      <td>NaN</td>\n",
              "      <td>NaN</td>\n",
              "      <td>NaN</td>\n",
              "      <td>Angry</td>\n",
              "    </tr>\n",
              "    <tr>\n",
              "      <th>1</th>\n",
              "      <td>0.125000</td>\n",
              "      <td>0.224609</td>\n",
              "      <td>0.327637</td>\n",
              "      <td>0.359863</td>\n",
              "      <td>0.306152</td>\n",
              "      <td>0.236328</td>\n",
              "      <td>0.160156</td>\n",
              "      <td>0.126465</td>\n",
              "      <td>0.159180</td>\n",
              "      <td>0.168945</td>\n",
              "      <td>...</td>\n",
              "      <td>NaN</td>\n",
              "      <td>NaN</td>\n",
              "      <td>NaN</td>\n",
              "      <td>NaN</td>\n",
              "      <td>NaN</td>\n",
              "      <td>NaN</td>\n",
              "      <td>NaN</td>\n",
              "      <td>NaN</td>\n",
              "      <td>NaN</td>\n",
              "      <td>Angry</td>\n",
              "    </tr>\n",
              "    <tr>\n",
              "      <th>2</th>\n",
              "      <td>0.027832</td>\n",
              "      <td>0.067383</td>\n",
              "      <td>0.103516</td>\n",
              "      <td>0.121094</td>\n",
              "      <td>0.125000</td>\n",
              "      <td>0.108887</td>\n",
              "      <td>0.087402</td>\n",
              "      <td>0.069824</td>\n",
              "      <td>0.074219</td>\n",
              "      <td>0.080078</td>\n",
              "      <td>...</td>\n",
              "      <td>NaN</td>\n",
              "      <td>NaN</td>\n",
              "      <td>NaN</td>\n",
              "      <td>NaN</td>\n",
              "      <td>NaN</td>\n",
              "      <td>NaN</td>\n",
              "      <td>NaN</td>\n",
              "      <td>NaN</td>\n",
              "      <td>NaN</td>\n",
              "      <td>Angry</td>\n",
              "    </tr>\n",
              "    <tr>\n",
              "      <th>3</th>\n",
              "      <td>0.032715</td>\n",
              "      <td>0.084473</td>\n",
              "      <td>0.125000</td>\n",
              "      <td>0.141602</td>\n",
              "      <td>0.142090</td>\n",
              "      <td>0.114746</td>\n",
              "      <td>0.087402</td>\n",
              "      <td>0.067871</td>\n",
              "      <td>0.074219</td>\n",
              "      <td>0.079590</td>\n",
              "      <td>...</td>\n",
              "      <td>NaN</td>\n",
              "      <td>NaN</td>\n",
              "      <td>NaN</td>\n",
              "      <td>NaN</td>\n",
              "      <td>NaN</td>\n",
              "      <td>NaN</td>\n",
              "      <td>NaN</td>\n",
              "      <td>NaN</td>\n",
              "      <td>NaN</td>\n",
              "      <td>Angry</td>\n",
              "    </tr>\n",
              "    <tr>\n",
              "      <th>4</th>\n",
              "      <td>0.041504</td>\n",
              "      <td>0.059082</td>\n",
              "      <td>0.070312</td>\n",
              "      <td>0.061035</td>\n",
              "      <td>0.072754</td>\n",
              "      <td>0.118164</td>\n",
              "      <td>0.134766</td>\n",
              "      <td>0.137695</td>\n",
              "      <td>0.123047</td>\n",
              "      <td>0.072266</td>\n",
              "      <td>...</td>\n",
              "      <td>NaN</td>\n",
              "      <td>NaN</td>\n",
              "      <td>NaN</td>\n",
              "      <td>NaN</td>\n",
              "      <td>NaN</td>\n",
              "      <td>NaN</td>\n",
              "      <td>NaN</td>\n",
              "      <td>NaN</td>\n",
              "      <td>NaN</td>\n",
              "      <td>Painful</td>\n",
              "    </tr>\n",
              "  </tbody>\n",
              "</table>\n",
              "<p>5 rows × 2377 columns</p>\n",
              "</div>"
            ],
            "text/plain": [
              "          0         1         2         3         4         5         6  \\\n",
              "0  0.027344  0.057617  0.104004  0.136230  0.136230  0.129883  0.100586   \n",
              "1  0.125000  0.224609  0.327637  0.359863  0.306152  0.236328  0.160156   \n",
              "2  0.027832  0.067383  0.103516  0.121094  0.125000  0.108887  0.087402   \n",
              "3  0.032715  0.084473  0.125000  0.141602  0.142090  0.114746  0.087402   \n",
              "4  0.041504  0.059082  0.070312  0.061035  0.072754  0.118164  0.134766   \n",
              "\n",
              "          7         8         9  ...  2367  2368  2369  2370  2371  2372  \\\n",
              "0  0.070801  0.069336  0.074219  ...   NaN   NaN   NaN   NaN   NaN   NaN   \n",
              "1  0.126465  0.159180  0.168945  ...   NaN   NaN   NaN   NaN   NaN   NaN   \n",
              "2  0.069824  0.074219  0.080078  ...   NaN   NaN   NaN   NaN   NaN   NaN   \n",
              "3  0.067871  0.074219  0.079590  ...   NaN   NaN   NaN   NaN   NaN   NaN   \n",
              "4  0.137695  0.123047  0.072266  ...   NaN   NaN   NaN   NaN   NaN   NaN   \n",
              "\n",
              "   2373  2374  2375   labels  \n",
              "0   NaN   NaN   NaN    Angry  \n",
              "1   NaN   NaN   NaN    Angry  \n",
              "2   NaN   NaN   NaN    Angry  \n",
              "3   NaN   NaN   NaN    Angry  \n",
              "4   NaN   NaN   NaN  Painful  \n",
              "\n",
              "[5 rows x 2377 columns]"
            ]
          },
          "execution_count": 17,
          "metadata": {},
          "output_type": "execute_result"
        }
      ],
      "source": [
        "extracted_df = pd.DataFrame(X)\n",
        "extracted_df[\"labels\"] = Y\n",
        "extracted_df.to_csv(features_path, index=False)\n",
        "extracted_df.head()"
      ]
    },
    {
      "cell_type": "code",
      "execution_count": null,
      "metadata": {
        "colab": {
          "base_uri": "https://localhost:8080/"
        },
        "id": "5XLfM9SgqKsi",
        "outputId": "fef5f643-a8b1-4e08-dae6-37a1ca019c39"
      },
      "outputs": [
        {
          "name": "stdout",
          "output_type": "stream",
          "text": [
            "(34264, 2377)\n"
          ]
        }
      ],
      "source": [
        "extracted_df = pd.read_csv(features_path)\n",
        "print(extracted_df.shape)"
      ]
    },
    {
      "cell_type": "code",
      "execution_count": null,
      "metadata": {
        "colab": {
          "base_uri": "https://localhost:8080/"
        },
        "id": "sP35PBLqqMhF",
        "outputId": "80312b78-3e66-4776-c900-87998b031a1b"
      },
      "outputs": [
        {
          "name": "stdout",
          "output_type": "stream",
          "text": [
            "0         False\n",
            "1         False\n",
            "2         False\n",
            "3         False\n",
            "4         False\n",
            "          ...  \n",
            "2372      False\n",
            "2373      False\n",
            "2374      False\n",
            "2375      False\n",
            "labels    False\n",
            "Length: 2377, dtype: bool\n"
          ]
        },
        {
          "data": {
            "text/plain": [
              "(34264, 2377)"
            ]
          },
          "execution_count": 19,
          "metadata": {},
          "output_type": "execute_result"
        }
      ],
      "source": [
        "# Fill NaN with 0\n",
        "extracted_df = extracted_df.fillna(0)\n",
        "print(extracted_df.isna().any())\n",
        "extracted_df.shape"
      ]
    },
    {
      "cell_type": "code",
      "execution_count": null,
      "metadata": {
        "colab": {
          "base_uri": "https://localhost:8080/",
          "height": 299
        },
        "id": "kPNXRsfUqPed",
        "outputId": "e59bf645-713b-4326-a077-47cb90b2577a"
      },
      "outputs": [
        {
          "data": {
            "text/html": [
              "<div>\n",
              "<style scoped>\n",
              "    .dataframe tbody tr th:only-of-type {\n",
              "        vertical-align: middle;\n",
              "    }\n",
              "\n",
              "    .dataframe tbody tr th {\n",
              "        vertical-align: top;\n",
              "    }\n",
              "\n",
              "    .dataframe thead th {\n",
              "        text-align: right;\n",
              "    }\n",
              "</style>\n",
              "<table border=\"1\" class=\"dataframe\">\n",
              "  <thead>\n",
              "    <tr style=\"text-align: right;\">\n",
              "      <th></th>\n",
              "      <th>0</th>\n",
              "      <th>1</th>\n",
              "      <th>2</th>\n",
              "      <th>3</th>\n",
              "      <th>4</th>\n",
              "      <th>5</th>\n",
              "      <th>6</th>\n",
              "      <th>7</th>\n",
              "      <th>8</th>\n",
              "      <th>9</th>\n",
              "      <th>...</th>\n",
              "      <th>2367</th>\n",
              "      <th>2368</th>\n",
              "      <th>2369</th>\n",
              "      <th>2370</th>\n",
              "      <th>2371</th>\n",
              "      <th>2372</th>\n",
              "      <th>2373</th>\n",
              "      <th>2374</th>\n",
              "      <th>2375</th>\n",
              "      <th>labels</th>\n",
              "    </tr>\n",
              "  </thead>\n",
              "  <tbody>\n",
              "    <tr>\n",
              "      <th>0</th>\n",
              "      <td>0.027344</td>\n",
              "      <td>0.057617</td>\n",
              "      <td>0.104004</td>\n",
              "      <td>0.136230</td>\n",
              "      <td>0.136230</td>\n",
              "      <td>0.129883</td>\n",
              "      <td>0.100586</td>\n",
              "      <td>0.070801</td>\n",
              "      <td>0.069336</td>\n",
              "      <td>0.074219</td>\n",
              "      <td>...</td>\n",
              "      <td>0.0</td>\n",
              "      <td>0.0</td>\n",
              "      <td>0.0</td>\n",
              "      <td>0.0</td>\n",
              "      <td>0.0</td>\n",
              "      <td>0.0</td>\n",
              "      <td>0.0</td>\n",
              "      <td>0.0</td>\n",
              "      <td>0.0</td>\n",
              "      <td>Angry</td>\n",
              "    </tr>\n",
              "    <tr>\n",
              "      <th>1</th>\n",
              "      <td>0.125000</td>\n",
              "      <td>0.224609</td>\n",
              "      <td>0.327637</td>\n",
              "      <td>0.359863</td>\n",
              "      <td>0.306152</td>\n",
              "      <td>0.236328</td>\n",
              "      <td>0.160156</td>\n",
              "      <td>0.126465</td>\n",
              "      <td>0.159180</td>\n",
              "      <td>0.168945</td>\n",
              "      <td>...</td>\n",
              "      <td>0.0</td>\n",
              "      <td>0.0</td>\n",
              "      <td>0.0</td>\n",
              "      <td>0.0</td>\n",
              "      <td>0.0</td>\n",
              "      <td>0.0</td>\n",
              "      <td>0.0</td>\n",
              "      <td>0.0</td>\n",
              "      <td>0.0</td>\n",
              "      <td>Angry</td>\n",
              "    </tr>\n",
              "    <tr>\n",
              "      <th>2</th>\n",
              "      <td>0.027832</td>\n",
              "      <td>0.067383</td>\n",
              "      <td>0.103516</td>\n",
              "      <td>0.121094</td>\n",
              "      <td>0.125000</td>\n",
              "      <td>0.108887</td>\n",
              "      <td>0.087402</td>\n",
              "      <td>0.069824</td>\n",
              "      <td>0.074219</td>\n",
              "      <td>0.080078</td>\n",
              "      <td>...</td>\n",
              "      <td>0.0</td>\n",
              "      <td>0.0</td>\n",
              "      <td>0.0</td>\n",
              "      <td>0.0</td>\n",
              "      <td>0.0</td>\n",
              "      <td>0.0</td>\n",
              "      <td>0.0</td>\n",
              "      <td>0.0</td>\n",
              "      <td>0.0</td>\n",
              "      <td>Angry</td>\n",
              "    </tr>\n",
              "    <tr>\n",
              "      <th>3</th>\n",
              "      <td>0.032715</td>\n",
              "      <td>0.084473</td>\n",
              "      <td>0.125000</td>\n",
              "      <td>0.141602</td>\n",
              "      <td>0.142090</td>\n",
              "      <td>0.114746</td>\n",
              "      <td>0.087402</td>\n",
              "      <td>0.067871</td>\n",
              "      <td>0.074219</td>\n",
              "      <td>0.079590</td>\n",
              "      <td>...</td>\n",
              "      <td>0.0</td>\n",
              "      <td>0.0</td>\n",
              "      <td>0.0</td>\n",
              "      <td>0.0</td>\n",
              "      <td>0.0</td>\n",
              "      <td>0.0</td>\n",
              "      <td>0.0</td>\n",
              "      <td>0.0</td>\n",
              "      <td>0.0</td>\n",
              "      <td>Angry</td>\n",
              "    </tr>\n",
              "    <tr>\n",
              "      <th>4</th>\n",
              "      <td>0.041504</td>\n",
              "      <td>0.059082</td>\n",
              "      <td>0.070312</td>\n",
              "      <td>0.061035</td>\n",
              "      <td>0.072754</td>\n",
              "      <td>0.118164</td>\n",
              "      <td>0.134766</td>\n",
              "      <td>0.137695</td>\n",
              "      <td>0.123047</td>\n",
              "      <td>0.072266</td>\n",
              "      <td>...</td>\n",
              "      <td>0.0</td>\n",
              "      <td>0.0</td>\n",
              "      <td>0.0</td>\n",
              "      <td>0.0</td>\n",
              "      <td>0.0</td>\n",
              "      <td>0.0</td>\n",
              "      <td>0.0</td>\n",
              "      <td>0.0</td>\n",
              "      <td>0.0</td>\n",
              "      <td>Painful</td>\n",
              "    </tr>\n",
              "  </tbody>\n",
              "</table>\n",
              "<p>5 rows × 2377 columns</p>\n",
              "</div>"
            ],
            "text/plain": [
              "          0         1         2         3         4         5         6  \\\n",
              "0  0.027344  0.057617  0.104004  0.136230  0.136230  0.129883  0.100586   \n",
              "1  0.125000  0.224609  0.327637  0.359863  0.306152  0.236328  0.160156   \n",
              "2  0.027832  0.067383  0.103516  0.121094  0.125000  0.108887  0.087402   \n",
              "3  0.032715  0.084473  0.125000  0.141602  0.142090  0.114746  0.087402   \n",
              "4  0.041504  0.059082  0.070312  0.061035  0.072754  0.118164  0.134766   \n",
              "\n",
              "          7         8         9  ...  2367  2368  2369  2370  2371  2372  \\\n",
              "0  0.070801  0.069336  0.074219  ...   0.0   0.0   0.0   0.0   0.0   0.0   \n",
              "1  0.126465  0.159180  0.168945  ...   0.0   0.0   0.0   0.0   0.0   0.0   \n",
              "2  0.069824  0.074219  0.080078  ...   0.0   0.0   0.0   0.0   0.0   0.0   \n",
              "3  0.067871  0.074219  0.079590  ...   0.0   0.0   0.0   0.0   0.0   0.0   \n",
              "4  0.137695  0.123047  0.072266  ...   0.0   0.0   0.0   0.0   0.0   0.0   \n",
              "\n",
              "   2373  2374  2375   labels  \n",
              "0   0.0   0.0   0.0    Angry  \n",
              "1   0.0   0.0   0.0    Angry  \n",
              "2   0.0   0.0   0.0    Angry  \n",
              "3   0.0   0.0   0.0    Angry  \n",
              "4   0.0   0.0   0.0  Painful  \n",
              "\n",
              "[5 rows x 2377 columns]"
            ]
          },
          "execution_count": 20,
          "metadata": {},
          "output_type": "execute_result"
        }
      ],
      "source": [
        "extracted_df.head()"
      ]
    },
    {
      "cell_type": "code",
      "execution_count": null,
      "metadata": {
        "id": "NDor49kPqRZ3"
      },
      "outputs": [],
      "source": [
        "X = extracted_df.drop(labels=\"labels\", axis=1)\n",
        "Y = extracted_df[\"labels\"]"
      ]
    },
    {
      "cell_type": "code",
      "execution_count": null,
      "metadata": {
        "colab": {
          "base_uri": "https://localhost:8080/"
        },
        "id": "d2DsCVxWqVEs",
        "outputId": "cff5fb38-6282-469e-b51b-c7cd21aabe88"
      },
      "outputs": [
        {
          "name": "stdout",
          "output_type": "stream",
          "text": [
            "['Abusive' 'Angry' 'Neutral' 'Painful' 'Prank' 'Sad' 'Stressful']\n"
          ]
        },
        {
          "data": {
            "text/plain": [
              "array([[0., 1., 0., ..., 0., 0., 0.],\n",
              "       [0., 1., 0., ..., 0., 0., 0.],\n",
              "       [0., 1., 0., ..., 0., 0., 0.],\n",
              "       ...,\n",
              "       [1., 0., 0., ..., 0., 0., 0.],\n",
              "       [1., 0., 0., ..., 0., 0., 0.],\n",
              "       [1., 0., 0., ..., 0., 0., 0.]], dtype=float32)"
            ]
          },
          "execution_count": 22,
          "metadata": {},
          "output_type": "execute_result"
        }
      ],
      "source": [
        "lb = LabelEncoder()\n",
        "Y = np_utils.to_categorical(lb.fit_transform(Y))\n",
        "print(lb.classes_)\n",
        "Y"
      ]
    },
    {
      "cell_type": "code",
      "execution_count": null,
      "metadata": {
        "id": "WDPiw7hqQ5zs"
      },
      "outputs": [],
      "source": [
        "# # Not using\n",
        "# kf = KFold(n_splits=5, random_state = 1, shuffle=True)\n",
        "# for train, test in kf.split(X):\n",
        "#   print(\"%s %s\" % (train, test))"
      ]
    },
    {
      "cell_type": "code",
      "execution_count": null,
      "metadata": {
        "id": "eP2YbRvdJ5_k"
      },
      "outputs": [],
      "source": [
        "# # Not using\n",
        "# X1=np.array(X)\n",
        "# X1_train=X1[train]\n",
        "# X1_test=X1[test]\n",
        "# Y1=np.array(Y)\n",
        "# Y1_train=Y1[train]\n",
        "# Y1_test=Y1[test]"
      ]
    },
    {
      "cell_type": "code",
      "execution_count": null,
      "metadata": {
        "id": "cLtuzbsSqbs8"
      },
      "outputs": [],
      "source": [
        "# # Not using\n",
        "# # Standardize data\n",
        "# scaler = StandardScaler()\n",
        "# X1_train = scaler.fit_transform(X1_train)\n",
        "# X1_test = scaler.transform(X1_test)\n",
        "# X1_train.shape, X1_test.shape, Y1_train.shape, Y1_test.shape"
      ]
    },
    {
      "cell_type": "code",
      "execution_count": null,
      "metadata": {
        "id": "HGZ7ZUk1qdmd"
      },
      "outputs": [],
      "source": [
        "# # Not using\n",
        "# # We have to use 1-dimensional CNN which need specifical shape:\n",
        "# X1_train = np.expand_dims(X1_train, axis=2)\n",
        "# X1_test = np.expand_dims(X1_test, axis=2)\n",
        "# X1_train.shape"
      ]
    },
    {
      "cell_type": "code",
      "execution_count": null,
      "metadata": {
        "id": "VAF_HkZXqff7"
      },
      "outputs": [],
      "source": [
        "# # Not using\n",
        "# earlystopping = EarlyStopping(monitor =\"val_acc\",\n",
        "#                               mode = 'auto', patience = 5,\n",
        "#                               restore_best_weights = True)"
      ]
    },
    {
      "cell_type": "code",
      "execution_count": null,
      "metadata": {
        "id": "7mJA9B2Iqigb"
      },
      "outputs": [],
      "source": [
        "learning_rate_reduction = ReduceLROnPlateau(monitor='val_loss',\n",
        "                                            patience=2,\n",
        "                                            verbose=1,\n",
        "                                            factor=0.2)"
      ]
    },
    {
      "cell_type": "code",
      "execution_count": null,
      "metadata": {
        "id": "t4ZdbvH3qkRo"
      },
      "outputs": [],
      "source": [
        "from keras import backend as K\n",
        "\n",
        "def recall_m(y_true, y_pred):\n",
        "    true_positives = K.sum(K.round(K.clip(y_true * y_pred, 0, 1)))\n",
        "    possible_positives = K.sum(K.round(K.clip(y_true, 0, 1)))\n",
        "    recall = true_positives / (possible_positives + K.epsilon())\n",
        "    return recall\n",
        "\n",
        "def precision_m(y_true, y_pred):\n",
        "    true_positives = K.sum(K.round(K.clip(y_true * y_pred, 0, 1)))\n",
        "    predicted_positives = K.sum(K.round(K.clip(y_pred, 0, 1)))\n",
        "    precision = true_positives / (predicted_positives + K.epsilon())\n",
        "    return precision\n",
        "\n",
        "def f1_m(y_true, y_pred):\n",
        "    precision = precision_m(y_true, y_pred)\n",
        "    recall = recall_m(y_true, y_pred)\n",
        "    return 2*((precision*recall)/(precision+recall+K.epsilon()))"
      ]
    },
    {
      "cell_type": "code",
      "execution_count": null,
      "metadata": {
        "id": "RSDzkDYOqmPp",
        "outputId": "d186a923-1336-438b-c382-8f265c1e640a"
      },
      "outputs": [
        {
          "ename": "NameError",
          "evalue": "name 'models' is not defined",
          "output_type": "error",
          "traceback": [
            "\u001b[1;31m---------------------------------------------------------------------------\u001b[0m",
            "\u001b[1;31mNameError\u001b[0m                                 Traceback (most recent call last)",
            "\u001b[1;32mc:\\Users\\User\\Downloads\\Final_Model.ipynb Cell 33\u001b[0m in \u001b[0;36m<cell line: 75>\u001b[1;34m()\u001b[0m\n\u001b[0;32m      <a href='vscode-notebook-cell:/c%3A/Users/User/Downloads/Final_Model.ipynb#X44sZmlsZQ%3D%3D?line=0'>1</a>\u001b[0m \u001b[39m# model = models.Sequential()\u001b[39;00m\n\u001b[0;32m      <a href='vscode-notebook-cell:/c%3A/Users/User/Downloads/Final_Model.ipynb#X44sZmlsZQ%3D%3D?line=1'>2</a>\u001b[0m \u001b[39m# model.add(layers.Conv1D(256, kernel_size=5, strides=1,\u001b[39;00m\n\u001b[0;32m      <a href='vscode-notebook-cell:/c%3A/Users/User/Downloads/Final_Model.ipynb#X44sZmlsZQ%3D%3D?line=2'>3</a>\u001b[0m \u001b[39m#                         padding=\"same\", activation=\"relu\",\u001b[39;00m\n\u001b[1;32m   (...)\u001b[0m\n\u001b[0;32m     <a href='vscode-notebook-cell:/c%3A/Users/User/Downloads/Final_Model.ipynb#X44sZmlsZQ%3D%3D?line=71'>72</a>\u001b[0m \n\u001b[0;32m     <a href='vscode-notebook-cell:/c%3A/Users/User/Downloads/Final_Model.ipynb#X44sZmlsZQ%3D%3D?line=72'>73</a>\u001b[0m \u001b[39m# from tensorflow.keras import layers, models\u001b[39;00m\n\u001b[1;32m---> <a href='vscode-notebook-cell:/c%3A/Users/User/Downloads/Final_Model.ipynb#X44sZmlsZQ%3D%3D?line=74'>75</a>\u001b[0m model \u001b[39m=\u001b[39m models\u001b[39m.\u001b[39mSequential()\n\u001b[0;32m     <a href='vscode-notebook-cell:/c%3A/Users/User/Downloads/Final_Model.ipynb#X44sZmlsZQ%3D%3D?line=75'>76</a>\u001b[0m model\u001b[39m.\u001b[39madd(layers\u001b[39m.\u001b[39mConv2D(\u001b[39m64\u001b[39m, (\u001b[39m3\u001b[39m, \u001b[39m3\u001b[39m), activation\u001b[39m=\u001b[39m\u001b[39m'\u001b[39m\u001b[39mrelu\u001b[39m\u001b[39m'\u001b[39m, input_shape\u001b[39m=\u001b[39m(X_train\u001b[39m.\u001b[39mshape[\u001b[39m0\u001b[39m], X_train\u001b[39m.\u001b[39mshape[\u001b[39m1\u001b[39m], \u001b[39m1\u001b[39m)))\n\u001b[0;32m     <a href='vscode-notebook-cell:/c%3A/Users/User/Downloads/Final_Model.ipynb#X44sZmlsZQ%3D%3D?line=76'>77</a>\u001b[0m model\u001b[39m.\u001b[39madd(layers\u001b[39m.\u001b[39mBatchNormalization())\n",
            "\u001b[1;31mNameError\u001b[0m: name 'models' is not defined"
          ]
        }
      ],
      "source": [
        "# model = models.Sequential()\n",
        "# model.add(layers.Conv1D(256, kernel_size=5, strides=1,\n",
        "#                         padding=\"same\", activation=\"relu\",\n",
        "#                         input_shape=(X1_train.shape[1], 1)))\n",
        "# model.add(layers.BatchNormalization())\n",
        "# model.add(layers.MaxPool1D(pool_size=5, strides=2, padding=\"same\"))\n",
        "\n",
        "# model.add(layers.Conv1D(256, kernel_size=5, strides=1,\n",
        "#                         padding=\"same\", activation=\"relu\"))\n",
        "# model.add(layers.BatchNormalization())\n",
        "# model.add(layers.MaxPool1D(pool_size=5, strides=2, padding=\"same\"))\n",
        "\n",
        "# model.add(layers.Conv1D(128, kernel_size=5, strides=1,\n",
        "#                         padding=\"same\", activation=\"relu\"))\n",
        "# model.add(layers.BatchNormalization())\n",
        "# model.add(layers.MaxPool1D(pool_size=5, strides=2, padding=\"same\"))\n",
        "\n",
        "# model.add(layers.Conv1D(256, kernel_size=3, strides=1, padding='same', activation='relu'))\n",
        "# model.add(layers.BatchNormalization())\n",
        "# model.add(layers.MaxPooling1D(pool_size=5, strides = 2, padding = 'same'))\n",
        "\n",
        "# model.add(layers.Conv1D(128, kernel_size=3, strides=1, padding='same', activation='relu'))\n",
        "# model.add(layers.BatchNormalization())\n",
        "# model.add(layers.MaxPooling1D(pool_size=3, strides = 2, padding = 'same'))\n",
        "\n",
        "# model.add(layers.Flatten())\n",
        "# model.add(layers.Dense(128, activation='relu'))\n",
        "# model.add(layers.BatchNormalization())\n",
        "# model.add(layers.Dense(8, activation=\"softmax\"))\n",
        "\n",
        "# model.compile(optimizer=\"adam\", loss=\"categorical_crossentropy\", metrics=[\"acc\", f1_m])\n",
        "\n",
        "\n",
        "\n",
        "\n",
        "\n",
        "# model = models.Sequential()\n",
        "# model.add(layers.Conv1D(64, kernel_size=5, strides=1,\n",
        "#                         padding=\"same\", activation=\"relu\",\n",
        "#                         input_shape=(X1_train.shape[1], 1)))\n",
        "# model.add(layers.BatchNormalization())\n",
        "# model.add(layers.MaxPool1D(pool_size=5, strides=2, padding=\"same\"))\n",
        "# model.add(layers.Dropout(0.2))\n",
        "\n",
        "# model.add(layers.Conv1D(128, kernel_size=5, strides=1,\n",
        "#                         padding=\"valid\", activation=\"relu\"))\n",
        "# model.add(layers.BatchNormalization())\n",
        "# model.add(layers.MaxPool1D(pool_size=5, strides=2, padding=\"same\"))\n",
        "# model.add(layers.Dropout(0.2))\n",
        "\n",
        "# model.add(layers.Conv1D(256, kernel_size=3, strides=1, padding='valid', activation='relu'))\n",
        "# model.add(layers.BatchNormalization())\n",
        "# model.add(layers.MaxPooling1D(pool_size=3, strides = 2, padding = 'same'))\n",
        "# model.add(layers.Dropout(0.2))\n",
        "\n",
        "# model.add(layers.Conv1D(512, kernel_size=3, strides=1, padding='valid', activation='relu'))\n",
        "# model.add(layers.BatchNormalization())\n",
        "# model.add(layers.MaxPooling1D(pool_size=3, strides = 2, padding = 'same'))\n",
        "# model.add(layers.Dropout(0.2))\n",
        "\n",
        "# model.add(layers.Flatten())\n",
        "# model.add(layers.Dense(512, activation='relu'))\n",
        "# model.add(layers.BatchNormalization())\n",
        "# model.add(layers.Dropout(0.5))\n",
        "# model.add(layers.Dense(7, activation=\"softmax\"))\n",
        "\n",
        "# model.compile(optimizer=\"adam\", loss=\"categorical_crossentropy\", metrics=[\"acc\", f1_m])\n",
        "\n",
        "\n",
        "\n",
        "\n",
        "\n",
        "# from tensorflow.keras import layers, models\n",
        "\n",
        "model = models.Sequential()\n",
        "model.add(layers.Conv2D(64, (3, 3), activation='relu', input_shape=(X_train.shape[0], X_train.shape[1], 1)))\n",
        "model.add(layers.BatchNormalization())\n",
        "model.add(layers.MaxPooling2D((3, 3), padding=\"same\"))\n",
        "model.add(layers.Dropout(0.5))\n",
        "\n",
        "model.add(layers.Conv2D(128, (3, 3), activation='relu'))\n",
        "model.add(layers.BatchNormalization())\n",
        "model.add(layers.MaxPooling2D((3, 3), padding=\"same\"))\n",
        "model.add(layers.Dropout(0.5))\n",
        "\n",
        "model.add(layers.Conv2D(256, (3, 3), activation='relu'))\n",
        "model.add(layers.BatchNormalization())\n",
        "model.add(layers.MaxPooling2D((3, 3), padding=\"same\"))\n",
        "model.add(layers.Dropout(0.5))\n",
        "\n",
        "model.add(layers.Flatten())\n",
        "model.add(layers.Dense(256, activation='relu'))\n",
        "model.add(layers.BatchNormalization())\n",
        "model.add(layers.Dropout(0.5))\n",
        "model.add(layers.Dense(7, activation='softmax'))\n",
        "\n",
        "model.compile(optimizer='adam', loss='categorical_crossentropy', metrics=['accuracy'])\n",
        "\n"
      ]
    },
    {
      "cell_type": "code",
      "execution_count": null,
      "metadata": {
        "colab": {
          "base_uri": "https://localhost:8080/"
        },
        "id": "uStCdMiyqueg",
        "outputId": "3a7e7cd2-b94f-407f-d1e3-21be76ab82bd"
      },
      "outputs": [
        {
          "name": "stdout",
          "output_type": "stream",
          "text": [
            "Model: \"sequential_17\"\n",
            "_________________________________________________________________\n",
            " Layer (type)                Output Shape              Param #   \n",
            "=================================================================\n",
            " conv2d_19 (Conv2D)          (None, 38, 214, 64)       640       \n",
            "                                                                 \n",
            " batch_normalization_18 (Bat  (None, 38, 214, 64)      256       \n",
            " chNormalization)                                                \n",
            "                                                                 \n",
            " max_pooling2d_8 (MaxPooling  (None, 13, 72, 64)       0         \n",
            " 2D)                                                             \n",
            "                                                                 \n",
            " dropout_14 (Dropout)        (None, 13, 72, 64)        0         \n",
            "                                                                 \n",
            " conv2d_20 (Conv2D)          (None, 11, 70, 128)       73856     \n",
            "                                                                 \n",
            " batch_normalization_19 (Bat  (None, 11, 70, 128)      512       \n",
            " chNormalization)                                                \n",
            "                                                                 \n",
            " max_pooling2d_9 (MaxPooling  (None, 4, 24, 128)       0         \n",
            " 2D)                                                             \n",
            "                                                                 \n",
            " dropout_15 (Dropout)        (None, 4, 24, 128)        0         \n",
            "                                                                 \n",
            " conv2d_21 (Conv2D)          (None, 2, 22, 256)        295168    \n",
            "                                                                 \n",
            " batch_normalization_20 (Bat  (None, 2, 22, 256)       1024      \n",
            " chNormalization)                                                \n",
            "                                                                 \n",
            " max_pooling2d_10 (MaxPoolin  (None, 1, 8, 256)        0         \n",
            " g2D)                                                            \n",
            "                                                                 \n",
            " dropout_16 (Dropout)        (None, 1, 8, 256)         0         \n",
            "                                                                 \n",
            " flatten_2 (Flatten)         (None, 2048)              0         \n",
            "                                                                 \n",
            " dense_4 (Dense)             (None, 256)               524544    \n",
            "                                                                 \n",
            " batch_normalization_21 (Bat  (None, 256)              1024      \n",
            " chNormalization)                                                \n",
            "                                                                 \n",
            " dropout_17 (Dropout)        (None, 256)               0         \n",
            "                                                                 \n",
            " dense_5 (Dense)             (None, 7)                 1799      \n",
            "                                                                 \n",
            "=================================================================\n",
            "Total params: 898,823\n",
            "Trainable params: 897,415\n",
            "Non-trainable params: 1,408\n",
            "_________________________________________________________________\n"
          ]
        }
      ],
      "source": [
        "model.summary()"
      ]
    },
    {
      "cell_type": "code",
      "execution_count": null,
      "metadata": {
        "id": "psKt-uhGqwhV"
      },
      "outputs": [],
      "source": [
        "EPOCHS = 20\n",
        "batch_size = 64"
      ]
    },
    {
      "cell_type": "code",
      "execution_count": null,
      "metadata": {
        "id": "eO50Vk9h6MC_",
        "outputId": "a2c66ff7-194e-43e2-e928-cd7edbdf8dd3"
      },
      "outputs": [
        {
          "ename": "ValueError",
          "evalue": "cannot reshape array of size 65130912 into shape (27412,40,216,1)",
          "output_type": "error",
          "traceback": [
            "\u001b[1;31m---------------------------------------------------------------------------\u001b[0m",
            "\u001b[1;31mValueError\u001b[0m                                Traceback (most recent call last)",
            "\u001b[1;32mc:\\Users\\User\\Downloads\\Final_Model.ipynb Cell 36\u001b[0m in \u001b[0;36m<cell line: 1>\u001b[1;34m()\u001b[0m\n\u001b[1;32m----> <a href='vscode-notebook-cell:/c%3A/Users/User/Downloads/Final_Model.ipynb#Y100sZmlsZQ%3D%3D?line=0'>1</a>\u001b[0m X_train \u001b[39m=\u001b[39m np\u001b[39m.\u001b[39;49mreshape(X_train, (X_train\u001b[39m.\u001b[39;49mshape[\u001b[39m0\u001b[39;49m], \u001b[39m40\u001b[39;49m, \u001b[39m216\u001b[39;49m, \u001b[39m1\u001b[39;49m))\n\u001b[0;32m      <a href='vscode-notebook-cell:/c%3A/Users/User/Downloads/Final_Model.ipynb#Y100sZmlsZQ%3D%3D?line=1'>2</a>\u001b[0m X_val \u001b[39m=\u001b[39m np\u001b[39m.\u001b[39mreshape(X_val, (X_val\u001b[39m.\u001b[39mshape[\u001b[39m0\u001b[39m], \u001b[39m40\u001b[39m, \u001b[39m216\u001b[39m, \u001b[39m1\u001b[39m))\n\u001b[0;32m      <a href='vscode-notebook-cell:/c%3A/Users/User/Downloads/Final_Model.ipynb#Y100sZmlsZQ%3D%3D?line=2'>3</a>\u001b[0m X_test \u001b[39m=\u001b[39m np\u001b[39m.\u001b[39mreshape(X_test, (X_test\u001b[39m.\u001b[39mshape[\u001b[39m0\u001b[39m], \u001b[39m40\u001b[39m, \u001b[39m216\u001b[39m, \u001b[39m1\u001b[39m))\n",
            "File \u001b[1;32m<__array_function__ internals>:5\u001b[0m, in \u001b[0;36mreshape\u001b[1;34m(*args, **kwargs)\u001b[0m\n",
            "File \u001b[1;32mc:\\Users\\User\\anaconda3\\lib\\site-packages\\numpy\\core\\fromnumeric.py:298\u001b[0m, in \u001b[0;36mreshape\u001b[1;34m(a, newshape, order)\u001b[0m\n\u001b[0;32m    198\u001b[0m \u001b[39m@array_function_dispatch\u001b[39m(_reshape_dispatcher)\n\u001b[0;32m    199\u001b[0m \u001b[39mdef\u001b[39;00m \u001b[39mreshape\u001b[39m(a, newshape, order\u001b[39m=\u001b[39m\u001b[39m'\u001b[39m\u001b[39mC\u001b[39m\u001b[39m'\u001b[39m):\n\u001b[0;32m    200\u001b[0m     \u001b[39m\"\"\"\u001b[39;00m\n\u001b[0;32m    201\u001b[0m \u001b[39m    Gives a new shape to an array without changing its data.\u001b[39;00m\n\u001b[0;32m    202\u001b[0m \n\u001b[1;32m   (...)\u001b[0m\n\u001b[0;32m    296\u001b[0m \u001b[39m           [5, 6]])\u001b[39;00m\n\u001b[0;32m    297\u001b[0m \u001b[39m    \"\"\"\u001b[39;00m\n\u001b[1;32m--> 298\u001b[0m     \u001b[39mreturn\u001b[39;00m _wrapfunc(a, \u001b[39m'\u001b[39;49m\u001b[39mreshape\u001b[39;49m\u001b[39m'\u001b[39;49m, newshape, order\u001b[39m=\u001b[39;49morder)\n",
            "File \u001b[1;32mc:\\Users\\User\\anaconda3\\lib\\site-packages\\numpy\\core\\fromnumeric.py:57\u001b[0m, in \u001b[0;36m_wrapfunc\u001b[1;34m(obj, method, *args, **kwds)\u001b[0m\n\u001b[0;32m     54\u001b[0m     \u001b[39mreturn\u001b[39;00m _wrapit(obj, method, \u001b[39m*\u001b[39margs, \u001b[39m*\u001b[39m\u001b[39m*\u001b[39mkwds)\n\u001b[0;32m     56\u001b[0m \u001b[39mtry\u001b[39;00m:\n\u001b[1;32m---> 57\u001b[0m     \u001b[39mreturn\u001b[39;00m bound(\u001b[39m*\u001b[39margs, \u001b[39m*\u001b[39m\u001b[39m*\u001b[39mkwds)\n\u001b[0;32m     58\u001b[0m \u001b[39mexcept\u001b[39;00m \u001b[39mTypeError\u001b[39;00m:\n\u001b[0;32m     59\u001b[0m     \u001b[39m# A TypeError occurs if the object does have such a method in its\u001b[39;00m\n\u001b[0;32m     60\u001b[0m     \u001b[39m# class, but its signature is not identical to that of NumPy's. This\u001b[39;00m\n\u001b[1;32m   (...)\u001b[0m\n\u001b[0;32m     64\u001b[0m     \u001b[39m# Call _wrapit from within the except clause to ensure a potential\u001b[39;00m\n\u001b[0;32m     65\u001b[0m     \u001b[39m# exception has a traceback chain.\u001b[39;00m\n\u001b[0;32m     66\u001b[0m     \u001b[39mreturn\u001b[39;00m _wrapit(obj, method, \u001b[39m*\u001b[39margs, \u001b[39m*\u001b[39m\u001b[39m*\u001b[39mkwds)\n",
            "\u001b[1;31mValueError\u001b[0m: cannot reshape array of size 65130912 into shape (27412,40,216,1)"
          ]
        }
      ],
      "source": [
        "X_train = np.reshape(X_train, (X_train.shape[0], 40, 216, 1))\n",
        "X_val = np.reshape(X_val, (X_val.shape[0], 40, 216, 1))\n",
        "X_test = np.reshape(X_test, (X_test.shape[0], 40, 216, 1))"
      ]
    },
    {
      "cell_type": "code",
      "execution_count": null,
      "metadata": {
        "colab": {
          "background_save": true,
          "base_uri": "https://localhost:8080/"
        },
        "id": "J5MfacaKqyeA",
        "outputId": "b5304b82-e9fa-4172-9047-a1d8623d52f9"
      },
      "outputs": [
        {
          "name": "stdout",
          "output_type": "stream",
          "text": [
            "Epoch 1/20\n"
          ]
        },
        {
          "ename": "ValueError",
          "evalue": "in user code:\n\n    File \"c:\\Users\\User\\anaconda3\\lib\\site-packages\\keras\\engine\\training.py\", line 1051, in train_function  *\n        return step_function(self, iterator)\n    File \"c:\\Users\\User\\anaconda3\\lib\\site-packages\\keras\\engine\\training.py\", line 1040, in step_function  **\n        outputs = model.distribute_strategy.run(run_step, args=(data,))\n    File \"c:\\Users\\User\\anaconda3\\lib\\site-packages\\keras\\engine\\training.py\", line 1030, in run_step  **\n        outputs = model.train_step(data)\n    File \"c:\\Users\\User\\anaconda3\\lib\\site-packages\\keras\\engine\\training.py\", line 889, in train_step\n        y_pred = self(x, training=True)\n    File \"c:\\Users\\User\\anaconda3\\lib\\site-packages\\keras\\utils\\traceback_utils.py\", line 67, in error_handler\n        raise e.with_traceback(filtered_tb) from None\n    File \"c:\\Users\\User\\anaconda3\\lib\\site-packages\\keras\\engine\\input_spec.py\", line 264, in assert_input_compatibility\n        raise ValueError(f'Input {input_index} of layer \"{layer_name}\" is '\n\n    ValueError: Input 0 of layer \"sequential_17\" is incompatible with the layer: expected shape=(None, 40, 216, 1), found shape=(None, 2376)\n",
          "output_type": "error",
          "traceback": [
            "\u001b[1;31m---------------------------------------------------------------------------\u001b[0m",
            "\u001b[1;31mValueError\u001b[0m                                Traceback (most recent call last)",
            "\u001b[1;32mc:\\Users\\User\\Downloads\\Final_Model.ipynb Cell 36\u001b[0m in \u001b[0;36m<cell line: 1>\u001b[1;34m()\u001b[0m\n\u001b[1;32m----> <a href='vscode-notebook-cell:/c%3A/Users/User/Downloads/Final_Model.ipynb#X46sZmlsZQ%3D%3D?line=0'>1</a>\u001b[0m history \u001b[39m=\u001b[39m model\u001b[39m.\u001b[39;49mfit(X_train, y_train, validation_data\u001b[39m=\u001b[39;49m(X_val, y_val), epochs\u001b[39m=\u001b[39;49mEPOCHS, batch_size\u001b[39m=\u001b[39;49mbatch_size, callbacks\u001b[39m=\u001b[39;49m[learning_rate_reduction])\n",
            "File \u001b[1;32mc:\\Users\\User\\anaconda3\\lib\\site-packages\\keras\\utils\\traceback_utils.py:67\u001b[0m, in \u001b[0;36mfilter_traceback.<locals>.error_handler\u001b[1;34m(*args, **kwargs)\u001b[0m\n\u001b[0;32m     65\u001b[0m \u001b[39mexcept\u001b[39;00m \u001b[39mException\u001b[39;00m \u001b[39mas\u001b[39;00m e:  \u001b[39m# pylint: disable=broad-except\u001b[39;00m\n\u001b[0;32m     66\u001b[0m   filtered_tb \u001b[39m=\u001b[39m _process_traceback_frames(e\u001b[39m.\u001b[39m__traceback__)\n\u001b[1;32m---> 67\u001b[0m   \u001b[39mraise\u001b[39;00m e\u001b[39m.\u001b[39mwith_traceback(filtered_tb) \u001b[39mfrom\u001b[39;00m \u001b[39mNone\u001b[39m\n\u001b[0;32m     68\u001b[0m \u001b[39mfinally\u001b[39;00m:\n\u001b[0;32m     69\u001b[0m   \u001b[39mdel\u001b[39;00m filtered_tb\n",
            "File \u001b[1;32m~\\AppData\\Local\\Temp\\__autograph_generated_fileync9gfzb.py:15\u001b[0m, in \u001b[0;36mouter_factory.<locals>.inner_factory.<locals>.tf__train_function\u001b[1;34m(iterator)\u001b[0m\n\u001b[0;32m     13\u001b[0m \u001b[39mtry\u001b[39;00m:\n\u001b[0;32m     14\u001b[0m     do_return \u001b[39m=\u001b[39m \u001b[39mTrue\u001b[39;00m\n\u001b[1;32m---> 15\u001b[0m     retval_ \u001b[39m=\u001b[39m ag__\u001b[39m.\u001b[39mconverted_call(ag__\u001b[39m.\u001b[39mld(step_function), (ag__\u001b[39m.\u001b[39mld(\u001b[39mself\u001b[39m), ag__\u001b[39m.\u001b[39mld(iterator)), \u001b[39mNone\u001b[39;00m, fscope)\n\u001b[0;32m     16\u001b[0m \u001b[39mexcept\u001b[39;00m:\n\u001b[0;32m     17\u001b[0m     do_return \u001b[39m=\u001b[39m \u001b[39mFalse\u001b[39;00m\n",
            "\u001b[1;31mValueError\u001b[0m: in user code:\n\n    File \"c:\\Users\\User\\anaconda3\\lib\\site-packages\\keras\\engine\\training.py\", line 1051, in train_function  *\n        return step_function(self, iterator)\n    File \"c:\\Users\\User\\anaconda3\\lib\\site-packages\\keras\\engine\\training.py\", line 1040, in step_function  **\n        outputs = model.distribute_strategy.run(run_step, args=(data,))\n    File \"c:\\Users\\User\\anaconda3\\lib\\site-packages\\keras\\engine\\training.py\", line 1030, in run_step  **\n        outputs = model.train_step(data)\n    File \"c:\\Users\\User\\anaconda3\\lib\\site-packages\\keras\\engine\\training.py\", line 889, in train_step\n        y_pred = self(x, training=True)\n    File \"c:\\Users\\User\\anaconda3\\lib\\site-packages\\keras\\utils\\traceback_utils.py\", line 67, in error_handler\n        raise e.with_traceback(filtered_tb) from None\n    File \"c:\\Users\\User\\anaconda3\\lib\\site-packages\\keras\\engine\\input_spec.py\", line 264, in assert_input_compatibility\n        raise ValueError(f'Input {input_index} of layer \"{layer_name}\" is '\n\n    ValueError: Input 0 of layer \"sequential_17\" is incompatible with the layer: expected shape=(None, 40, 216, 1), found shape=(None, 2376)\n"
          ]
        }
      ],
      "source": [
        "history = model.fit(X_train, y_train, validation_data=(X_val, y_val), epochs=EPOCHS, batch_size=batch_size, callbacks=[learning_rate_reduction])"
      ]
    },
    {
      "cell_type": "code",
      "execution_count": null,
      "metadata": {
        "colab": {
          "background_save": true
        },
        "id": "vwjSrX032dRN",
        "outputId": "5073f5dd-8a48-48e3-8134-a42f69bc2083"
      },
      "outputs": [
        {
          "name": "stdout",
          "output_type": "stream",
          "text": [
            "130/130 [==============================] - 4s 27ms/step - loss: 0.1123 - acc: 0.9680 - f1_m: 0.9689\n",
            "Accuracy of our model on test data :  96.80387377738953 %\n"
          ]
        },
        {
          "data": {
            "image/png": "[encoded data removed]",
            "text/plain": [
              "<Figure size 1440x432 with 2 Axes>"
            ]
          },
          "metadata": {},
          "output_type": "display_data"
        }
      ],
      "source": [
        "print(\"Accuracy of our model on test data : \" , model.evaluate(X1_test,Y1_test)[1]*100 , \"%\")\n",
        "\n",
        "fig , ax = plt.subplots(1,2)\n",
        "train_acc = history.history['acc']\n",
        "train_loss = history.history['loss']\n",
        "test_acc = history.history['val_acc']\n",
        "test_loss = history.history['val_loss']\n",
        "\n",
        "fig.set_size_inches(20,6)\n",
        "ax[0].plot(train_loss, label = 'Training Loss')\n",
        "ax[0].plot(test_loss , label = 'Testing Loss')\n",
        "ax[0].set_title('Training & Testing Loss')\n",
        "ax[0].legend()\n",
        "ax[0].set_xlabel(\"Epochs\")\n",
        "\n",
        "ax[1].plot(train_acc, label = 'Training Accuracy')\n",
        "ax[1].plot(test_acc , label = 'Testing Accuracy')\n",
        "ax[1].set_title('Training & Testing Accuracy')\n",
        "ax[1].legend()\n",
        "ax[1].set_xlabel(\"Epochs\")\n",
        "plt.show()"
      ]
    },
    {
      "cell_type": "code",
      "execution_count": null,
      "metadata": {
        "colab": {
          "background_save": true
        },
        "id": "PrBS5b3u5NFw",
        "outputId": "7a891c84-b632-42ad-f9ed-255dcbb7baf3"
      },
      "outputs": [
        {
          "data": {
            "text/plain": [
              "array([2, 2, 4, ..., 0, 0, 0])"
            ]
          },
          "execution_count": 38,
          "metadata": {},
          "output_type": "execute_result"
        }
      ],
      "source": [
        "y_pred = model.predict(X1_test)\n",
        "y_pred = np.argmax(y_pred, axis=1)\n",
        "y_pred"
      ]
    },
    {
      "cell_type": "code",
      "execution_count": null,
      "metadata": {
        "colab": {
          "background_save": true
        },
        "id": "scd06yUc5P_y",
        "outputId": "9d8a3a91-ed6d-47a7-d0f4-c6061affc385"
      },
      "outputs": [
        {
          "data": {
            "text/plain": [
              "array([2, 2, 4, ..., 0, 0, 0])"
            ]
          },
          "execution_count": 39,
          "metadata": {},
          "output_type": "execute_result"
        }
      ],
      "source": [
        "y_check = np.argmax(Y1_test, axis=1)\n",
        "y_check"
      ]
    },
    {
      "cell_type": "code",
      "execution_count": null,
      "metadata": {
        "colab": {
          "background_save": true
        },
        "id": "OuGtfILT5R9w"
      },
      "outputs": [],
      "source": [
        "from sklearn.metrics import confusion_matrix\n",
        "\n",
        "cm = confusion_matrix(y_true=y_check, y_pred=y_pred)"
      ]
    },
    {
      "cell_type": "code",
      "execution_count": null,
      "metadata": {
        "colab": {
          "background_save": true
        },
        "id": "USjKyrgE5Tt_"
      },
      "outputs": [],
      "source": [
        "import itertools\n",
        "def plot_confusion_matrix(cm, classes,\n",
        "                        normalize=False,\n",
        "                        title='Confusion matrix',\n",
        "                        cmap=plt.cm.Blues):\n",
        "    \"\"\"\n",
        "    This function prints and plots the confusion matrix.\n",
        "    Normalization can be applied by setting `normalize=True`.\n",
        "    \"\"\"\n",
        "    plt.imshow(cm, interpolation='nearest', cmap=cmap)\n",
        "    plt.title(title)\n",
        "    plt.colorbar()\n",
        "    tick_marks = np.arange(len(classes))\n",
        "    plt.xticks(tick_marks, classes, rotation=45)\n",
        "    plt.yticks(tick_marks, classes)\n",
        "\n",
        "    if normalize:\n",
        "        cm = cm.astype('float') / cm.sum(axis=1)[:, np.newaxis]\n",
        "        print(\"Normalized confusion matrix\")\n",
        "    else:\n",
        "        print('Confusion matrix, without normalization')\n",
        "\n",
        "    print(cm)\n",
        "\n",
        "    thresh = cm.max() / 2.\n",
        "    for i, j in itertools.product(range(cm.shape[0]), range(cm.shape[1])):\n",
        "        plt.text(j, i, cm[i, j],\n",
        "            horizontalalignment=\"center\",\n",
        "            color=\"white\" if cm[i, j] > thresh else \"black\")\n",
        "\n",
        "    plt.tight_layout()\n",
        "    plt.ylabel('True label')\n",
        "    plt.xlabel('Predicted label')"
      ]
    },
    {
      "cell_type": "code",
      "execution_count": null,
      "metadata": {
        "colab": {
          "background_save": true
        },
        "id": "xx8zUHtO5bkP",
        "outputId": "9d4b287e-0097-4bfe-8211-001db5e08b69"
      },
      "outputs": [
        {
          "name": "stdout",
          "output_type": "stream",
          "text": [
            "Confusion matrix, without normalization\n",
            "[[921   0   3   1   0]\n",
            " [  6 159   0   0   0]\n",
            " [  0   1 975  22  16]\n",
            " [  0   1   9 981  13]\n",
            " [  1   0  28  31 962]]\n"
          ]
        },
        {
          "data": {
            "image/png": "[encoded data removed]",
            "text/plain": [
              "<Figure size 432x288 with 2 Axes>"
            ]
          },
          "metadata": {},
          "output_type": "display_data"
        }
      ],
      "source": [
        "cm_plot_labels = ['Painful', 'Stressful', 'Abusive', 'Prank', 'Drunk']\n",
        "plot_confusion_matrix(cm=cm, classes=cm_plot_labels, title='Confusion Matrix')"
      ]
    },
    {
      "cell_type": "code",
      "execution_count": null,
      "metadata": {
        "colab": {
          "background_save": true
        },
        "id": "hO3Ml0KO5eQX"
      },
      "outputs": [],
      "source": [
        "path_to_model = \"./res_model.h5\"\n",
        "\n",
        "model.save(path_to_model)\n"
      ]
    },
    {
      "cell_type": "code",
      "execution_count": null,
      "metadata": {
        "colab": {
          "background_save": true
        },
        "id": "IpN3m1srEjAc",
        "outputId": "cccf912b-41d5-45c0-dc10-7757751b2498"
      },
      "outputs": [
        {
          "data": {
            "application/vnd.google.colaboratory.intrinsic+json": {
              "type": "string"
            },
            "text/plain": [
              "\"model = create_model()\\n\\n# Restore the weights\\nmodel.load_weights('./checkpoints/my_checkpoint')\""
            ]
          },
          "execution_count": 44,
          "metadata": {},
          "output_type": "execute_result"
        }
      ],
      "source": [
        "# Save the weights\n",
        "model.save_weights('./checkpoints/my_checkpoint')\n",
        "\n",
        "# Create a new model instance\n",
        "'''model = create_model()\n",
        "\n",
        "# Restore the weights\n",
        "model.load_weights('./checkpoints/my_checkpoint')'''\n",
        "\n",
        "# Evaluate the model\n",
        "#loss, acc = model.evaluate(X_test[1], X_test[0] , verbose=2)\n",
        "#print(\"Restored model, accuracy: {:5.2f}%\".format(100 * acc))"
      ]
    },
    {
      "cell_type": "code",
      "execution_count": null,
      "metadata": {
        "id": "29L0X893Ejx9"
      },
      "outputs": [],
      "source": [
        "# Create and train a new model instance.\n",
        "#model = create_model()\n",
        "model.fit(X1_train, Y1_train, epochs=5)\n",
        "\n",
        "# Save the entire model as a SavedModel.\n",
        "!mkdir -p saved_model\n",
        "model.save('saved_model/my_model')\n",
        "new_model = tf.keras.models.load_model('saved_model/my_model')"
      ]
    }
  ],
  "metadata": {
    "accelerator": "GPU",
    "colab": {
      "provenance": []
    },
    "gpuClass": "standard",
    "kernelspec": {
      "display_name": "Python 3",
      "name": "python3"
    },
    "language_info": {
      "codemirror_mode": {
        "name": "ipython",
        "version": 3
      },
      "file_extension": ".py",
      "mimetype": "text/x-python",
      "name": "python",
      "nbconvert_exporter": "python",
      "pygments_lexer": "ipython3",
      "version": "3.9.12"
    }
  },
  "nbformat": 4,
  "nbformat_minor": 0
}